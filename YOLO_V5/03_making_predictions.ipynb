{
 "cells": [
  {
   "cell_type": "code",
   "execution_count": null,
   "id": "32cf2f92-1b68-4369-b3a0-232a94050494",
   "metadata": {},
   "outputs": [],
   "source": [
    "# !pip install PyYAML"
   ]
  },
  {
   "cell_type": "code",
   "execution_count": 1,
   "id": "8e3f6c81-b5a9-4c98-90b3-16a4d2d1039b",
   "metadata": {},
   "outputs": [],
   "source": [
    "import cv2\n",
    "import numpy as np\n",
    "import yaml\n",
    "from yaml.loader import SafeLoader"
   ]
  },
  {
   "cell_type": "markdown",
   "id": "62ea7e20-1fbe-4785-8e42-1acf8cc22bd5",
   "metadata": {},
   "source": [
    "## Load Yaml file"
   ]
  },
  {
   "cell_type": "code",
   "execution_count": 3,
   "id": "0c26d693-e92a-4e87-8c58-56b0fb5409fd",
   "metadata": {},
   "outputs": [
    {
     "name": "stdout",
     "output_type": "stream",
     "text": [
      "['fox', 'skunk', 'racoon', 'cow', 'chicken', 'person', 'horse', 'cat', 'dog', 'goat']\n"
     ]
    }
   ],
   "source": [
    "with open('data.yaml','r') as f:\n",
    "    data_yaml=yaml.load(f,Loader=SafeLoader)\n",
    "\n",
    "names=data_yaml['names']\n",
    "print(names)"
   ]
  },
  {
   "cell_type": "markdown",
   "id": "1d545a12-f8ec-40c6-97ee-02227dd80cfc",
   "metadata": {},
   "source": [
    "## Load Model"
   ]
  },
  {
   "cell_type": "code",
   "execution_count": 10,
   "id": "e50fc9aa-f562-4e31-af5a-d2265d448337",
   "metadata": {},
   "outputs": [],
   "source": [
    "model=cv2.dnn.readNetFromONNX('./model/weights/best.onnx')\n",
    "\n",
    "# customize accordingly\n",
    "model.setPreferableBackend(cv2.dnn.DNN_BACKEND_OPENCV)\n",
    "model.setPreferableTarget(cv2.dnn.DNN_TARGET_CPU)"
   ]
  },
  {
   "cell_type": "markdown",
   "id": "d526ed39-6483-4fbc-9d18-724a834a9bb9",
   "metadata": {},
   "source": [
    "## Make Predictions"
   ]
  },
  {
   "cell_type": "code",
   "execution_count": 349,
   "id": "98e2e2a3-6cad-41d3-99dd-f40c3dd58973",
   "metadata": {},
   "outputs": [],
   "source": [
    "# Load Image\n",
    "image=cv2.imread('./test.jpg')\n",
    "img=image.copy()\n",
    "\n",
    "# Convert Image to square Image\n",
    "r,c,d=img.shape\n",
    "max_wd=max(r,c)\n",
    "sqr_img=np.zeros((max_wd,max_wd,3),dtype=np.uint8) # make sure this dtype is uint8 and not int8\n",
    "sqr_img[0:r,0:c]=img\n",
    "\n",
    "cv2.imshow('test-img',sqr_img)\n",
    "cv2.waitKey(0)\n",
    "cv2.destroyAllWindows()\n",
    "\n",
    "# # Make Preds using yolo on sqr_img\n",
    "YOLO_WH=640 # width and height of image require by our yolo model\n",
    "\n",
    "blob=cv2.dnn.blobFromImage(sqr_img,1/255,(YOLO_WH,YOLO_WH),swapRB=True,crop=False) \n",
    "model.setInput(blob)\n",
    "pred=model.forward()"
   ]
  },
  {
   "cell_type": "code",
   "execution_count": 350,
   "id": "8746c66e-0f1c-48cd-a9d8-1ab9c6016835",
   "metadata": {},
   "outputs": [
    {
     "name": "stdout",
     "output_type": "stream",
     "text": [
      "(1, 25200, 15)\n"
     ]
    }
   ],
   "source": [
    "print(pred.shape) # -> signifies yolo (N,num_bounding_box_detected,preds_per_bndbox)"
   ]
  },
  {
   "cell_type": "code",
   "execution_count": 351,
   "id": "6e9af510-85c5-4e21-b165-94600a5a8d00",
   "metadata": {},
   "outputs": [],
   "source": [
    "## Do a Non maximal suppression\n",
    "detections=pred[0]\n",
    "classes=[]\n",
    "confidence_scores=[]\n",
    "bnd_boxes=[]\n",
    "\n",
    "# x_factor,y_factor to map predicted bndbox on original image\n",
    "input_img_width,input_img_height,_=sqr_img.shape\n",
    "x_factor=input_img_width/YOLO_WH\n",
    "y_factor=input_img_height/YOLO_WH\n",
    "\n",
    "# Set Threshold for confidence_score and cls_probability (the more it is the more robust ur model will be but the less objects might get detected)\n",
    "confidence_threshold=0.5\n",
    "class_threshold=0.25\n",
    "\n",
    "for detection in detections:\n",
    "    confidence_score=detection[5]\n",
    "    if confidence_score>confidence_threshold:\n",
    "        class_score=detection[5:].max()\n",
    "        class_id=detection[5:].argmax()\n",
    "        if class_score>class_threshold:\n",
    "            # Extract bndbox info\n",
    "            cx,cy,w,h=detection[:4]\n",
    "            \n",
    "            # Find left,top,width and height of bndbox that will overlay over orgnl_img\n",
    "            left=int((cx-0.5*w)*x_factor)\n",
    "            top=int((cy-0.5*h)*y_factor)\n",
    "            width=int(w*x_factor)\n",
    "            height=int(h*y_factor)\n",
    "\n",
    "            box=np.array([left,top,width,height])\n",
    "            \n",
    "            bnd_boxes.append(box)\n",
    "            classes.append(class_id)\n",
    "            confidence_scores.append(confidence_score)\n",
    "\n",
    "# clean\n",
    "bnd_boxes=np.array(bnd_boxes).tolist()\n",
    "confidence_scores=np.array(confidence_scores).tolist()\n",
    "classes=np.array(classes).tolist()"
   ]
  },
  {
   "cell_type": "code",
   "execution_count": 354,
   "id": "b5e2ba3b-19f5-4474-bb38-26019d5faab0",
   "metadata": {},
   "outputs": [
    {
     "data": {
      "text/plain": [
       "array([2], dtype=int32)"
      ]
     },
     "execution_count": 354,
     "metadata": {},
     "output_type": "execute_result"
    }
   ],
   "source": [
    "# Do non-maximum-supression\n",
    "indexes=cv2.dnn.NMSBoxes(bnd_boxes,confidence_scores,confidence_threshold,0.5).flatten()\n",
    "indexes"
   ]
  },
  {
   "cell_type": "code",
   "execution_count": 355,
   "id": "78091d31-3dd1-4013-a703-1d02088338b4",
   "metadata": {},
   "outputs": [],
   "source": [
    "##### Draw bndbox\n",
    "temp_img=sqr_img.copy()\n",
    "for idx in indexes:\n",
    "    # extract bnd_box\n",
    "    x,y,w,h=bnd_boxes[idx]\n",
    "    confidence_score=int(confidence_scores[idx]*100)\n",
    "    cls_id=classes[idx]\n",
    "    class_name=names[cls_id]\n",
    "\n",
    "    text=f'{class_name}:{confidence_score}%'\n",
    "\n",
    "    cv2.rectangle(temp_img,(x,y),(x+w,y+h),(0,255,0),2)\n",
    "    cv2.rectangle(temp_img,(x,y-30),(x+w,y),(255,255,255),-1)\n",
    "    cv2.putText(temp_img,text,(x,y-10),cv2.FONT_HERSHEY_PLAIN,0.7,(0,0,0),1)"
   ]
  },
  {
   "cell_type": "code",
   "execution_count": 356,
   "id": "23bb6856-8d0f-40f5-a122-6ace023e5029",
   "metadata": {},
   "outputs": [],
   "source": [
    "cv2.imshow('pred',temp_img)\n",
    "cv2.imshow('original',sqr_img)\n",
    "cv2.waitKey(0)\n",
    "cv2.destroyAllWindows()"
   ]
  },
  {
   "cell_type": "code",
   "execution_count": 357,
   "id": "7f90ea4d-3f66-4758-b6a4-b9ea678ff581",
   "metadata": {},
   "outputs": [
    {
     "ename": "error",
     "evalue": "OpenCV(4.10.0) D:\\a\\opencv-python\\opencv-python\\opencv\\modules\\imgcodecs\\src\\loadsave.cpp:708: error: (-2:Unspecified error) could not find a writer for the specified extension in function 'cv::imwrite_'\n",
     "output_type": "error",
     "traceback": [
      "\u001b[1;31m---------------------------------------------------------------------------\u001b[0m",
      "\u001b[1;31merror\u001b[0m                                     Traceback (most recent call last)",
      "Cell \u001b[1;32mIn[357], line 1\u001b[0m\n\u001b[1;32m----> 1\u001b[0m \u001b[43mcv2\u001b[49m\u001b[38;5;241;43m.\u001b[39;49m\u001b[43mimwrite\u001b[49m\u001b[43m(\u001b[49m\u001b[38;5;124;43m'\u001b[39;49m\u001b[38;5;124;43mtest-pred\u001b[39;49m\u001b[38;5;124;43m'\u001b[39;49m\u001b[43m,\u001b[49m\u001b[43mtemp_img\u001b[49m\u001b[43m)\u001b[49m\n",
      "\u001b[1;31merror\u001b[0m: OpenCV(4.10.0) D:\\a\\opencv-python\\opencv-python\\opencv\\modules\\imgcodecs\\src\\loadsave.cpp:708: error: (-2:Unspecified error) could not find a writer for the specified extension in function 'cv::imwrite_'\n"
     ]
    }
   ],
   "source": [
    "cv2.imwrite('test-pred',temp_img)"
   ]
  },
  {
   "cell_type": "code",
   "execution_count": null,
   "id": "a5583d49-b046-4db6-81b7-93eba9dc2775",
   "metadata": {},
   "outputs": [],
   "source": []
  }
 ],
 "metadata": {
  "kernelspec": {
   "display_name": "Python 3 (ipykernel)",
   "language": "python",
   "name": "python3"
  },
  "language_info": {
   "codemirror_mode": {
    "name": "ipython",
    "version": 3
   },
   "file_extension": ".py",
   "mimetype": "text/x-python",
   "name": "python",
   "nbconvert_exporter": "python",
   "pygments_lexer": "ipython3",
   "version": "3.9.7"
  }
 },
 "nbformat": 4,
 "nbformat_minor": 5
}
